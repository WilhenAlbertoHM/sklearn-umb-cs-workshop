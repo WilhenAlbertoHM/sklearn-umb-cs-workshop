{
 "cells": [
  {
   "cell_type": "markdown",
   "id": "87d4657c-544b-4234-bd5c-f5beff2090e2",
   "metadata": {},
   "source": [
    "# Linear Regression Exercise to predict the cost of insurance"
   ]
  },
  {
   "cell_type": "markdown",
   "id": "03ae33fc-471f-46d7-a5ca-4b7c5027ebf0",
   "metadata": {},
   "source": [
    "### 0. Import libraries"
   ]
  },
  {
   "cell_type": "code",
   "execution_count": 12,
   "id": "d3c985bf-0ff4-42b3-8ad4-7a2595c672d6",
   "metadata": {
    "tags": []
   },
   "outputs": [],
   "source": [
    "# Import libraries\n",
    "import numpy as np\n",
    "import pandas as pd\n",
    "from sklearn.linear_model import LinearRegression\n",
    "from sklearn.preprocessing import LabelEncoder, MinMaxScaler\n",
    "from sklearn.model_selection import train_test_split\n",
    "from sklearn.metrics import r2_score, mean_absolute_error, mean_squared_error\n",
    "import matplotlib.pyplot as plt"
   ]
  },
  {
   "cell_type": "markdown",
   "id": "f9a8d2cb-740e-4f4b-8338-de822b462315",
   "metadata": {},
   "source": [
    "### 1. ETL (Extract, Transform, and Load) data"
   ]
  },
  {
   "cell_type": "code",
   "execution_count": 13,
   "id": "329c16c9-c9dc-4156-b42a-b71c123258c9",
   "metadata": {
    "tags": []
   },
   "outputs": [
    {
     "data": {
      "text/html": [
       "<div>\n",
       "<style scoped>\n",
       "    .dataframe tbody tr th:only-of-type {\n",
       "        vertical-align: middle;\n",
       "    }\n",
       "\n",
       "    .dataframe tbody tr th {\n",
       "        vertical-align: top;\n",
       "    }\n",
       "\n",
       "    .dataframe thead th {\n",
       "        text-align: right;\n",
       "    }\n",
       "</style>\n",
       "<table border=\"1\" class=\"dataframe\">\n",
       "  <thead>\n",
       "    <tr style=\"text-align: right;\">\n",
       "      <th></th>\n",
       "      <th>age</th>\n",
       "      <th>sex</th>\n",
       "      <th>bmi</th>\n",
       "      <th>children</th>\n",
       "      <th>smoker</th>\n",
       "      <th>region</th>\n",
       "      <th>charges</th>\n",
       "    </tr>\n",
       "  </thead>\n",
       "  <tbody>\n",
       "    <tr>\n",
       "      <th>0</th>\n",
       "      <td>19</td>\n",
       "      <td>female</td>\n",
       "      <td>27.900</td>\n",
       "      <td>0</td>\n",
       "      <td>yes</td>\n",
       "      <td>southwest</td>\n",
       "      <td>16884.92400</td>\n",
       "    </tr>\n",
       "    <tr>\n",
       "      <th>1</th>\n",
       "      <td>18</td>\n",
       "      <td>male</td>\n",
       "      <td>33.770</td>\n",
       "      <td>1</td>\n",
       "      <td>no</td>\n",
       "      <td>southeast</td>\n",
       "      <td>1725.55230</td>\n",
       "    </tr>\n",
       "    <tr>\n",
       "      <th>2</th>\n",
       "      <td>28</td>\n",
       "      <td>male</td>\n",
       "      <td>33.000</td>\n",
       "      <td>3</td>\n",
       "      <td>no</td>\n",
       "      <td>southeast</td>\n",
       "      <td>4449.46200</td>\n",
       "    </tr>\n",
       "    <tr>\n",
       "      <th>3</th>\n",
       "      <td>33</td>\n",
       "      <td>male</td>\n",
       "      <td>22.705</td>\n",
       "      <td>0</td>\n",
       "      <td>no</td>\n",
       "      <td>northwest</td>\n",
       "      <td>21984.47061</td>\n",
       "    </tr>\n",
       "    <tr>\n",
       "      <th>4</th>\n",
       "      <td>32</td>\n",
       "      <td>male</td>\n",
       "      <td>28.880</td>\n",
       "      <td>0</td>\n",
       "      <td>no</td>\n",
       "      <td>northwest</td>\n",
       "      <td>3866.85520</td>\n",
       "    </tr>\n",
       "  </tbody>\n",
       "</table>\n",
       "</div>"
      ],
      "text/plain": [
       "   age     sex     bmi  children smoker     region      charges\n",
       "0   19  female  27.900         0    yes  southwest  16884.92400\n",
       "1   18    male  33.770         1     no  southeast   1725.55230\n",
       "2   28    male  33.000         3     no  southeast   4449.46200\n",
       "3   33    male  22.705         0     no  northwest  21984.47061\n",
       "4   32    male  28.880         0     no  northwest   3866.85520"
      ]
     },
     "execution_count": 13,
     "metadata": {},
     "output_type": "execute_result"
    }
   ],
   "source": [
    "# Import insurance dataset\n",
    "df_insurance = pd.read_csv(\"datasets/insurance.csv\")\n",
    "\n",
    "# Check the first 5 rows of the dataset\n",
    "df_insurance.head()"
   ]
  },
  {
   "cell_type": "markdown",
   "id": "2d2eb900-9f91-46a6-ad08-cbcbf0809457",
   "metadata": {},
   "source": [
    "### 2. Data Cleaning / 4. Exploratory Data Analysis"
   ]
  },
  {
   "cell_type": "code",
   "execution_count": 14,
   "id": "4e4e1627-8e01-4c8b-981c-bd6fe9a8a7b0",
   "metadata": {
    "tags": []
   },
   "outputs": [],
   "source": [
    "# Use LabelEncoder to convert categorical features into numerical features\n",
    "label_encoder = LabelEncoder()\n",
    "df_insurance[\"sex\"] = label_encoder.fit_transform(df_insurance[\"sex\"])\n",
    "df_insurance[\"smoker\"] = label_encoder.fit_transform(df_insurance[\"smoker\"])\n",
    "df_insurance[\"region\"] = label_encoder.fit_transform(df_insurance[\"region\"])"
   ]
  },
  {
   "cell_type": "markdown",
   "id": "31948157-8132-4e3e-8e9c-4870a56afe09",
   "metadata": {},
   "source": [
    "### 3. Train-Test-Validation Split / 5. Feature Engineering (Not done here)"
   ]
  },
  {
   "cell_type": "code",
   "execution_count": 32,
   "id": "f3b4ff03-d13b-487f-af57-260b55db798b",
   "metadata": {
    "tags": []
   },
   "outputs": [],
   "source": [
    "# Select X and Y\n",
    "X = df_insurance[[\"age\", \"sex\", \"bmi\", \"children\", \"smoker\", \"region\"]] \n",
    "y = df_insurance[\"charges\"]\n",
    "\n",
    "# Split data into training and testing data\n",
    "X_train, X_test, y_train, y_test = train_test_split(X, y, test_size = 0.2, random_state = 42)"
   ]
  },
  {
   "cell_type": "code",
   "execution_count": 33,
   "id": "43c4a9a0-793b-42ff-8577-ad88659e51dc",
   "metadata": {
    "tags": []
   },
   "outputs": [],
   "source": [
    "# Scale data by normalizing the numerical data\n",
    "scaler = MinMaxScaler()\n",
    "X_train_scaled = scaler.fit_transform(X_train)\n",
    "X_test_scaled = scaler.fit_transform(X_test)"
   ]
  },
  {
   "cell_type": "markdown",
   "id": "773a5e1a-c87c-4855-b052-6aff01315cfe",
   "metadata": {},
   "source": [
    "### 6. Model Selection and Implementation"
   ]
  },
  {
   "cell_type": "code",
   "execution_count": 34,
   "id": "877f4c09-eaee-43e0-8539-2d9ed7f52040",
   "metadata": {
    "tags": []
   },
   "outputs": [],
   "source": [
    "# Build model\n",
    "model = LinearRegression()\n",
    "\n",
    "# Train the model\n",
    "model.fit(X_train_scaled, y_train)\n",
    "\n",
    "# Predict against the testing set\n",
    "y_pred = model.predict(X_test_scaled)"
   ]
  },
  {
   "cell_type": "markdown",
   "id": "99ee591b-a842-46ff-93f2-52abcc9bcf43",
   "metadata": {},
   "source": [
    "### 7. Model Evaluation"
   ]
  },
  {
   "cell_type": "code",
   "execution_count": 35,
   "id": "bac9432d-b9b4-4ee0-96f7-b08e8b1bc85c",
   "metadata": {
    "tags": []
   },
   "outputs": [],
   "source": [
    "# Evaluate the model\n",
    "mean = np.mean(y_pred, axis = 0)\n",
    "std = np.std(y_pred, axis = 0)\n",
    "mae = mean_absolute_error(y_test, y_pred)\n",
    "mse = mean_squared_error(y_test, y_pred)\n",
    "rmse = mean_squared_error(y_test, y_pred, squared = False)\n",
    "r2 = r2_score(y_test, y_pred)"
   ]
  },
  {
   "cell_type": "code",
   "execution_count": 36,
   "id": "7f17f13f-af37-4221-b359-8911b1389d13",
   "metadata": {
    "tags": []
   },
   "outputs": [
    {
     "name": "stdout",
     "output_type": "stream",
     "text": [
      "Average cost of the insurance: 13094.10\n",
      "Standard deviation: 10765.18\n",
      "Mean absolute error (MAE): 4186.01\n",
      "Mean squared error (MSE): 33633113.94\n",
      "Root mean squared error (RMSE): 5799.41\n",
      "R-squared (R2) score: 0.78\n"
     ]
    }
   ],
   "source": [
    "# Print the evaluation metrics\n",
    "print(f\"Average cost of the insurance: {mean:.2f}\")\n",
    "print(f\"Standard deviation: {std:.2f}\")\n",
    "print(f\"Mean absolute error (MAE): {mae:.2f}\")\n",
    "print(f\"Mean squared error (MSE): {mse:.2f}\")\n",
    "print(f\"Root mean squared error (RMSE): {rmse:.2f}\")\n",
    "print(f\"R-squared (R2) score: {r2:.2f}\")"
   ]
  },
  {
   "cell_type": "code",
   "execution_count": 37,
   "id": "eaef4eef-a84f-4b06-ac6c-e6833117414b",
   "metadata": {
    "tags": []
   },
   "outputs": [
    {
     "data": {
      "image/png": "[encoded data removed]",
      "text/plain": [
       "<Figure size 640x480 with 1 Axes>"
      ]
     },
     "metadata": {},
     "output_type": "display_data"
    }
   ],
   "source": [
    "# Show the plot graph\n",
    "plt.scatter(y_test, y_pred)\n",
    "plt.title(\"y_test VS y_pred\")\n",
    "plt.xlabel(\"y_test\")\n",
    "plt.ylabel(\"y_pred\")\n",
    "plt.show()"
   ]
  }
 ],
 "metadata": {
  "kernelspec": {
   "display_name": "Python 3 (ipykernel)",
   "language": "python",
   "name": "python3"
  },
  "language_info": {
   "codemirror_mode": {
    "name": "ipython",
    "version": 3
   },
   "file_extension": ".py",
   "mimetype": "text/x-python",
   "name": "python",
   "nbconvert_exporter": "python",
   "pygments_lexer": "ipython3",
   "version": "3.11.4"
  }
 },
 "nbformat": 4,
 "nbformat_minor": 5
}
